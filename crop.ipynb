{
 "cells": [
  {
   "cell_type": "code",
   "execution_count": 1,
   "metadata": {
    "colab": {},
    "colab_type": "code",
    "id": "qG0fpqoBSVU_"
   },
   "outputs": [
    {
     "name": "stderr",
     "output_type": "stream",
     "text": [
      "/opt/anaconda3/lib/python3.7/site-packages/sklearn/externals/six.py:31: DeprecationWarning: The module is deprecated in version 0.21 and will be removed in version 0.23 since we've dropped support for Python 2.7. Please rely on the official version of six (https://pypi.org/project/six/).\n",
      "  \"(https://pypi.org/project/six/).\", DeprecationWarning)\n"
     ]
    }
   ],
   "source": [
    "import pandas as pd \n",
    "import warnings\n",
    "import itertools\n",
    "import numpy as np\n",
    "import matplotlib.pyplot as plt\n",
    "warnings.filterwarnings(\"ignore\")\n",
    "plt.style.use('fivethirtyeight')\n",
    "import pandas as pd\n",
    "import statsmodels.api as sm\n",
    "import matplotlib\n",
    "import matplotlib.pyplot as plt\n",
    "from matplotlib import style\n",
    "style.use('ggplot')\n",
    "from sklearn.cluster import KMeans\n",
    "from sklearn import preprocessing\n",
    "from sklearn.model_selection import cross_validate\n",
    "from sklearn.tree import DecisionTreeClassifier\n",
    "from sklearn.metrics import accuracy_score\n",
    "from sklearn import tree\n",
    "from sklearn.model_selection import train_test_split \n",
    "from sklearn.metrics import confusion_matrix \n",
    "from sklearn.metrics import accuracy_score \n",
    "from sklearn.metrics import classification_report\n",
    "from sklearn.tree import DecisionTreeClassifier\n",
    "from sklearn.model_selection import train_test_split\n",
    "from sklearn.metrics import confusion_matrix\n",
    "from sklearn.tree import export_graphviz\n",
    "from sklearn.externals.six import StringIO  \n",
    "from IPython.display import Image  \n",
    "# import pydotplus\n",
    "from sklearn import linear_model\n",
    "from sklearn.linear_model import LogisticRegression\n",
    "from sklearn.ensemble import RandomForestClassifier\n",
    "from sklearn.linear_model import Perceptron\n",
    "from sklearn.linear_model import SGDClassifier\n",
    "from sklearn.tree import DecisionTreeClassifier\n",
    "from sklearn.neighbors import KNeighborsClassifier\n",
    "from sklearn.svm import SVC, LinearSVC\n",
    "from sklearn.naive_bayes import GaussianNB\n",
    "from sklearn import mixture\n",
    "\n"
   ]
  },
  {
   "cell_type": "code",
   "execution_count": 2,
   "metadata": {
    "colab": {},
    "colab_type": "code",
    "id": "btl7inE3SVVR"
   },
   "outputs": [],
   "source": [
    "data=pd.read_csv(\"final-crop.csv\")"
   ]
  },
  {
   "cell_type": "code",
   "execution_count": 3,
   "metadata": {
    "colab": {},
    "colab_type": "code",
    "id": "X9OdhekrSVVc"
   },
   "outputs": [],
   "source": [
    "data=data.drop(columns=['Unnamed: 0','Region'])"
   ]
  },
  {
   "cell_type": "code",
   "execution_count": null,
   "metadata": {
    "colab": {},
    "colab_type": "code",
    "id": "AVDd22WMTOG0"
   },
   "outputs": [],
   "source": []
  },
  {
   "cell_type": "code",
   "execution_count": 4,
   "metadata": {
    "colab": {
     "base_uri": "https://localhost:8080/",
     "height": 204
    },
    "colab_type": "code",
    "executionInfo": {
     "elapsed": 6697,
     "status": "ok",
     "timestamp": 1587454446997,
     "user": {
      "displayName": "NIPUN IYER",
      "photoUrl": "",
      "userId": "02662934897748968596"
     },
     "user_tz": -330
    },
    "id": "E1lT-Z2lj6tQ",
    "outputId": "9435a4b7-3118-45b4-c3cb-5867e76676db"
   },
   "outputs": [
    {
     "data": {
      "text/html": [
       "<div>\n",
       "<style scoped>\n",
       "    .dataframe tbody tr th:only-of-type {\n",
       "        vertical-align: middle;\n",
       "    }\n",
       "\n",
       "    .dataframe tbody tr th {\n",
       "        vertical-align: top;\n",
       "    }\n",
       "\n",
       "    .dataframe thead th {\n",
       "        text-align: right;\n",
       "    }\n",
       "</style>\n",
       "<table border=\"1\" class=\"dataframe\">\n",
       "  <thead>\n",
       "    <tr style=\"text-align: right;\">\n",
       "      <th></th>\n",
       "      <th>Crop</th>\n",
       "      <th>Sowing Time</th>\n",
       "      <th>Min Temp</th>\n",
       "      <th>Max Temp</th>\n",
       "      <th>Soil pH</th>\n",
       "      <th>Soil Type</th>\n",
       "      <th>Min Rainfall</th>\n",
       "      <th>Max Rainfall</th>\n",
       "    </tr>\n",
       "  </thead>\n",
       "  <tbody>\n",
       "    <tr>\n",
       "      <td>0</td>\n",
       "      <td>bajra</td>\n",
       "      <td>jun</td>\n",
       "      <td>20</td>\n",
       "      <td>31</td>\n",
       "      <td>6.0</td>\n",
       "      <td>black cotton soil</td>\n",
       "      <td>25.0</td>\n",
       "      <td>60.0</td>\n",
       "    </tr>\n",
       "    <tr>\n",
       "      <td>1</td>\n",
       "      <td>bajra</td>\n",
       "      <td>jul</td>\n",
       "      <td>20</td>\n",
       "      <td>31</td>\n",
       "      <td>6.0</td>\n",
       "      <td>black cotton soil</td>\n",
       "      <td>25.0</td>\n",
       "      <td>60.0</td>\n",
       "    </tr>\n",
       "    <tr>\n",
       "      <td>2</td>\n",
       "      <td>bajra</td>\n",
       "      <td>jan</td>\n",
       "      <td>20</td>\n",
       "      <td>31</td>\n",
       "      <td>6.0</td>\n",
       "      <td>black cotton soil</td>\n",
       "      <td>25.0</td>\n",
       "      <td>60.0</td>\n",
       "    </tr>\n",
       "    <tr>\n",
       "      <td>3</td>\n",
       "      <td>bajra</td>\n",
       "      <td>feb</td>\n",
       "      <td>20</td>\n",
       "      <td>31</td>\n",
       "      <td>6.0</td>\n",
       "      <td>black cotton soil</td>\n",
       "      <td>25.0</td>\n",
       "      <td>60.0</td>\n",
       "    </tr>\n",
       "    <tr>\n",
       "      <td>4</td>\n",
       "      <td>bajra</td>\n",
       "      <td>mar</td>\n",
       "      <td>20</td>\n",
       "      <td>31</td>\n",
       "      <td>6.0</td>\n",
       "      <td>black cotton soil</td>\n",
       "      <td>25.0</td>\n",
       "      <td>60.0</td>\n",
       "    </tr>\n",
       "  </tbody>\n",
       "</table>\n",
       "</div>"
      ],
      "text/plain": [
       "    Crop Sowing Time  Min Temp  Max Temp  Soil pH          Soil Type  \\\n",
       "0  bajra         jun        20        31      6.0  black cotton soil   \n",
       "1  bajra         jul        20        31      6.0  black cotton soil   \n",
       "2  bajra         jan        20        31      6.0  black cotton soil   \n",
       "3  bajra         feb        20        31      6.0  black cotton soil   \n",
       "4  bajra         mar        20        31      6.0  black cotton soil   \n",
       "\n",
       "   Min Rainfall  Max Rainfall  \n",
       "0          25.0          60.0  \n",
       "1          25.0          60.0  \n",
       "2          25.0          60.0  \n",
       "3          25.0          60.0  \n",
       "4          25.0          60.0  "
      ]
     },
     "execution_count": 4,
     "metadata": {},
     "output_type": "execute_result"
    }
   ],
   "source": [
    "data.head()"
   ]
  },
  {
   "cell_type": "code",
   "execution_count": null,
   "metadata": {
    "colab": {},
    "colab_type": "code",
    "id": "20Z-UaEuUTBT"
   },
   "outputs": [],
   "source": []
  },
  {
   "cell_type": "code",
   "execution_count": 5,
   "metadata": {
    "colab": {
     "base_uri": "https://localhost:8080/",
     "height": 68
    },
    "colab_type": "code",
    "executionInfo": {
     "elapsed": 6579,
     "status": "ok",
     "timestamp": 1587454447033,
     "user": {
      "displayName": "NIPUN IYER",
      "photoUrl": "",
      "userId": "02662934897748968596"
     },
     "user_tz": -330
    },
    "id": "51vKwPkNSVVm",
    "outputId": "dc0fb07c-5252-498c-ebed-449a1b55b28f"
   },
   "outputs": [
    {
     "data": {
      "text/plain": [
       "Index(['Crop', 'Sowing Time', 'Min Temp', 'Max Temp', 'Soil pH', 'Soil Type',\n",
       "       'Min Rainfall', 'Max Rainfall'],\n",
       "      dtype='object')"
      ]
     },
     "execution_count": 5,
     "metadata": {},
     "output_type": "execute_result"
    }
   ],
   "source": [
    "data.columns"
   ]
  },
  {
   "cell_type": "code",
   "execution_count": 6,
   "metadata": {
    "colab": {
     "base_uri": "https://localhost:8080/",
     "height": 204
    },
    "colab_type": "code",
    "executionInfo": {
     "elapsed": 6448,
     "status": "ok",
     "timestamp": 1587454447047,
     "user": {
      "displayName": "NIPUN IYER",
      "photoUrl": "",
      "userId": "02662934897748968596"
     },
     "user_tz": -330
    },
    "id": "IrA2uwW8SVV0",
    "outputId": "651dbc12-4bf0-4e16-a18f-7d6f46fd505c"
   },
   "outputs": [
    {
     "data": {
      "text/html": [
       "<div>\n",
       "<style scoped>\n",
       "    .dataframe tbody tr th:only-of-type {\n",
       "        vertical-align: middle;\n",
       "    }\n",
       "\n",
       "    .dataframe tbody tr th {\n",
       "        vertical-align: top;\n",
       "    }\n",
       "\n",
       "    .dataframe thead th {\n",
       "        text-align: right;\n",
       "    }\n",
       "</style>\n",
       "<table border=\"1\" class=\"dataframe\">\n",
       "  <thead>\n",
       "    <tr style=\"text-align: right;\">\n",
       "      <th></th>\n",
       "      <th>Crop</th>\n",
       "      <th>Sowing Time</th>\n",
       "      <th>Min Temp</th>\n",
       "      <th>Max Temp</th>\n",
       "      <th>Soil pH</th>\n",
       "      <th>Soil Type</th>\n",
       "      <th>Min Rainfall</th>\n",
       "      <th>Max Rainfall</th>\n",
       "    </tr>\n",
       "  </thead>\n",
       "  <tbody>\n",
       "    <tr>\n",
       "      <td>0</td>\n",
       "      <td>bajra</td>\n",
       "      <td>jun</td>\n",
       "      <td>20</td>\n",
       "      <td>31</td>\n",
       "      <td>6.0</td>\n",
       "      <td>black cotton soil</td>\n",
       "      <td>25.0</td>\n",
       "      <td>60.0</td>\n",
       "    </tr>\n",
       "    <tr>\n",
       "      <td>1</td>\n",
       "      <td>bajra</td>\n",
       "      <td>jul</td>\n",
       "      <td>20</td>\n",
       "      <td>31</td>\n",
       "      <td>6.0</td>\n",
       "      <td>black cotton soil</td>\n",
       "      <td>25.0</td>\n",
       "      <td>60.0</td>\n",
       "    </tr>\n",
       "    <tr>\n",
       "      <td>2</td>\n",
       "      <td>bajra</td>\n",
       "      <td>jan</td>\n",
       "      <td>20</td>\n",
       "      <td>31</td>\n",
       "      <td>6.0</td>\n",
       "      <td>black cotton soil</td>\n",
       "      <td>25.0</td>\n",
       "      <td>60.0</td>\n",
       "    </tr>\n",
       "    <tr>\n",
       "      <td>3</td>\n",
       "      <td>bajra</td>\n",
       "      <td>feb</td>\n",
       "      <td>20</td>\n",
       "      <td>31</td>\n",
       "      <td>6.0</td>\n",
       "      <td>black cotton soil</td>\n",
       "      <td>25.0</td>\n",
       "      <td>60.0</td>\n",
       "    </tr>\n",
       "    <tr>\n",
       "      <td>4</td>\n",
       "      <td>bajra</td>\n",
       "      <td>mar</td>\n",
       "      <td>20</td>\n",
       "      <td>31</td>\n",
       "      <td>6.0</td>\n",
       "      <td>black cotton soil</td>\n",
       "      <td>25.0</td>\n",
       "      <td>60.0</td>\n",
       "    </tr>\n",
       "  </tbody>\n",
       "</table>\n",
       "</div>"
      ],
      "text/plain": [
       "    Crop Sowing Time  Min Temp  Max Temp  Soil pH          Soil Type  \\\n",
       "0  bajra         jun        20        31      6.0  black cotton soil   \n",
       "1  bajra         jul        20        31      6.0  black cotton soil   \n",
       "2  bajra         jan        20        31      6.0  black cotton soil   \n",
       "3  bajra         feb        20        31      6.0  black cotton soil   \n",
       "4  bajra         mar        20        31      6.0  black cotton soil   \n",
       "\n",
       "   Min Rainfall  Max Rainfall  \n",
       "0          25.0          60.0  \n",
       "1          25.0          60.0  \n",
       "2          25.0          60.0  \n",
       "3          25.0          60.0  \n",
       "4          25.0          60.0  "
      ]
     },
     "execution_count": 6,
     "metadata": {},
     "output_type": "execute_result"
    }
   ],
   "source": [
    "data.head()"
   ]
  },
  {
   "cell_type": "code",
   "execution_count": 7,
   "metadata": {
    "colab": {},
    "colab_type": "code",
    "id": "uSHdOxouSVWB"
   },
   "outputs": [],
   "source": [
    "data['Crop']=data['Crop'].str.lower()\n",
    "data['Sowing Time']=data['Sowing Time'].str.lower()\n",
    "# data['Region']=data['Region'].str.lower()\n",
    "data['Soil Type']=data['Soil Type'].str.lower()\n"
   ]
  },
  {
   "cell_type": "code",
   "execution_count": 8,
   "metadata": {
    "colab": {},
    "colab_type": "code",
    "id": "-AznKjazSVWP"
   },
   "outputs": [],
   "source": [
    "data=data.dropna()"
   ]
  },
  {
   "cell_type": "code",
   "execution_count": 9,
   "metadata": {
    "colab": {},
    "colab_type": "code",
    "id": "wxb7HnIlSVWa"
   },
   "outputs": [],
   "source": [
    "data['Sowing Time']=data['Sowing Time'].str.replace(\" \",\"\")\n",
    "data['Sowing Time']=data['Sowing Time'].str.replace(\"february\",\"feb\")\n"
   ]
  },
  {
   "cell_type": "code",
   "execution_count": 10,
   "metadata": {
    "colab": {},
    "colab_type": "code",
    "id": "zC3oJcn0SVWk"
   },
   "outputs": [],
   "source": [
    "data['Sowing Time']=data['Sowing Time'].str.replace(\"feb\",\"february\")\n"
   ]
  },
  {
   "cell_type": "code",
   "execution_count": 11,
   "metadata": {
    "colab": {},
    "colab_type": "code",
    "id": "jFQ1hwU3SVWw"
   },
   "outputs": [],
   "source": [
    "data['Sowing Time']=data['Sowing Time'].str.replace(\"wholeyear\",\"inter\")"
   ]
  },
  {
   "cell_type": "code",
   "execution_count": 12,
   "metadata": {
    "colab": {},
    "colab_type": "code",
    "id": "wg_LUIocSVW4"
   },
   "outputs": [],
   "source": [
    "data['Sowing Time']=data['Sowing Time'].str.replace(\"inter\",\"yearlong\")"
   ]
  },
  {
   "cell_type": "code",
   "execution_count": 13,
   "metadata": {
    "colab": {
     "base_uri": "https://localhost:8080/",
     "height": 68
    },
    "colab_type": "code",
    "executionInfo": {
     "elapsed": 6234,
     "status": "ok",
     "timestamp": 1587454447129,
     "user": {
      "displayName": "NIPUN IYER",
      "photoUrl": "",
      "userId": "02662934897748968596"
     },
     "user_tz": -330
    },
    "id": "BG1tJ4kFSVXF",
    "outputId": "04c1e332-6716-4482-c02d-e9334f4bd9a4"
   },
   "outputs": [
    {
     "data": {
      "text/plain": [
       "array(['jun', 'jul', 'jan', 'february', 'mar', 'aug', 'sep', 'oct', 'nov',\n",
       "       'dec', 'apr', 'may', 'yearlong'], dtype=object)"
      ]
     },
     "execution_count": 13,
     "metadata": {},
     "output_type": "execute_result"
    }
   ],
   "source": [
    "data['Sowing Time'].unique()"
   ]
  },
  {
   "cell_type": "code",
   "execution_count": 14,
   "metadata": {
    "colab": {
     "base_uri": "https://localhost:8080/",
     "height": 374
    },
    "colab_type": "code",
    "executionInfo": {
     "elapsed": 5966,
     "status": "ok",
     "timestamp": 1587454447133,
     "user": {
      "displayName": "NIPUN IYER",
      "photoUrl": "",
      "userId": "02662934897748968596"
     },
     "user_tz": -330
    },
    "id": "IMtV0qh5SVXZ",
    "outputId": "2cf7b6e6-9648-424c-efc0-b6fd2fb681c2"
   },
   "outputs": [
    {
     "name": "stdout",
     "output_type": "stream",
     "text": [
      "Crop\n",
      "0    8\n",
      "1    8\n",
      "2    8\n",
      "3    8\n",
      "4    8\n",
      "Name: Crop, dtype: int64\n",
      "Sowing Time\n",
      "0    6\n",
      "1    5\n",
      "2    4\n",
      "3    3\n",
      "4    7\n",
      "Name: Sowing Time, dtype: int64\n",
      "Soil Type\n",
      "0    1\n",
      "1    1\n",
      "2    1\n",
      "3    1\n",
      "4    1\n",
      "Name: Soil Type, dtype: int64\n"
     ]
    }
   ],
   "source": [
    "from sklearn import preprocessing\n",
    "# le = preprocessing.LabelEncoder()\n",
    "\n",
    "columns=['Crop','Sowing Time','Soil Type']\n",
    "\n",
    "for feature in columns:\n",
    "    print(feature)\n",
    "    le = preprocessing.LabelEncoder()\n",
    "    data[feature] = le.fit_transform(data[feature])\n",
    "#     data[feature] = le.transform(data[feature])\n",
    "    print(data[feature].head())\n",
    "        \n",
    "# data['Crop'].unique()\n",
    "        \n",
    "# data"
   ]
  },
  {
   "cell_type": "code",
   "execution_count": 15,
   "metadata": {
    "colab": {
     "base_uri": "https://localhost:8080/",
     "height": 34
    },
    "colab_type": "code",
    "executionInfo": {
     "elapsed": 5868,
     "status": "ok",
     "timestamp": 1587454447171,
     "user": {
      "displayName": "NIPUN IYER",
      "photoUrl": "",
      "userId": "02662934897748968596"
     },
     "user_tz": -330
    },
    "id": "PloTbmtHSVXi",
    "outputId": "ef6b24f3-a86b-4ca2-e42b-33c7824c67e2"
   },
   "outputs": [
    {
     "data": {
      "text/plain": [
       "array([1, 5, 6, 4, 7, 2, 0, 9, 3, 8])"
      ]
     },
     "execution_count": 15,
     "metadata": {},
     "output_type": "execute_result"
    }
   ],
   "source": [
    "data['Soil Type'].unique()"
   ]
  },
  {
   "cell_type": "code",
   "execution_count": 16,
   "metadata": {
    "colab": {
     "base_uri": "https://localhost:8080/",
     "height": 419
    },
    "colab_type": "code",
    "executionInfo": {
     "elapsed": 5771,
     "status": "ok",
     "timestamp": 1587454447176,
     "user": {
      "displayName": "NIPUN IYER",
      "photoUrl": "",
      "userId": "02662934897748968596"
     },
     "user_tz": -330
    },
    "id": "X-y_YmMXSVXr",
    "outputId": "afb98e9c-4a9b-4ea8-a9ab-7300165127ec"
   },
   "outputs": [
    {
     "data": {
      "text/html": [
       "<div>\n",
       "<style scoped>\n",
       "    .dataframe tbody tr th:only-of-type {\n",
       "        vertical-align: middle;\n",
       "    }\n",
       "\n",
       "    .dataframe tbody tr th {\n",
       "        vertical-align: top;\n",
       "    }\n",
       "\n",
       "    .dataframe thead th {\n",
       "        text-align: right;\n",
       "    }\n",
       "</style>\n",
       "<table border=\"1\" class=\"dataframe\">\n",
       "  <thead>\n",
       "    <tr style=\"text-align: right;\">\n",
       "      <th></th>\n",
       "      <th>Crop</th>\n",
       "      <th>Sowing Time</th>\n",
       "      <th>Min Temp</th>\n",
       "      <th>Max Temp</th>\n",
       "      <th>Soil pH</th>\n",
       "      <th>Soil Type</th>\n",
       "      <th>Min Rainfall</th>\n",
       "      <th>Max Rainfall</th>\n",
       "    </tr>\n",
       "  </thead>\n",
       "  <tbody>\n",
       "    <tr>\n",
       "      <td>0</td>\n",
       "      <td>8</td>\n",
       "      <td>6</td>\n",
       "      <td>20</td>\n",
       "      <td>31</td>\n",
       "      <td>6.0</td>\n",
       "      <td>1</td>\n",
       "      <td>25.0</td>\n",
       "      <td>60.0</td>\n",
       "    </tr>\n",
       "    <tr>\n",
       "      <td>1</td>\n",
       "      <td>8</td>\n",
       "      <td>5</td>\n",
       "      <td>20</td>\n",
       "      <td>31</td>\n",
       "      <td>6.0</td>\n",
       "      <td>1</td>\n",
       "      <td>25.0</td>\n",
       "      <td>60.0</td>\n",
       "    </tr>\n",
       "    <tr>\n",
       "      <td>2</td>\n",
       "      <td>8</td>\n",
       "      <td>4</td>\n",
       "      <td>20</td>\n",
       "      <td>31</td>\n",
       "      <td>6.0</td>\n",
       "      <td>1</td>\n",
       "      <td>25.0</td>\n",
       "      <td>60.0</td>\n",
       "    </tr>\n",
       "    <tr>\n",
       "      <td>3</td>\n",
       "      <td>8</td>\n",
       "      <td>3</td>\n",
       "      <td>20</td>\n",
       "      <td>31</td>\n",
       "      <td>6.0</td>\n",
       "      <td>1</td>\n",
       "      <td>25.0</td>\n",
       "      <td>60.0</td>\n",
       "    </tr>\n",
       "    <tr>\n",
       "      <td>4</td>\n",
       "      <td>8</td>\n",
       "      <td>7</td>\n",
       "      <td>20</td>\n",
       "      <td>31</td>\n",
       "      <td>6.0</td>\n",
       "      <td>1</td>\n",
       "      <td>25.0</td>\n",
       "      <td>60.0</td>\n",
       "    </tr>\n",
       "    <tr>\n",
       "      <td>...</td>\n",
       "      <td>...</td>\n",
       "      <td>...</td>\n",
       "      <td>...</td>\n",
       "      <td>...</td>\n",
       "      <td>...</td>\n",
       "      <td>...</td>\n",
       "      <td>...</td>\n",
       "      <td>...</td>\n",
       "    </tr>\n",
       "    <tr>\n",
       "      <td>4919</td>\n",
       "      <td>117</td>\n",
       "      <td>5</td>\n",
       "      <td>10</td>\n",
       "      <td>15</td>\n",
       "      <td>5.5</td>\n",
       "      <td>5</td>\n",
       "      <td>200.0</td>\n",
       "      <td>400.0</td>\n",
       "    </tr>\n",
       "    <tr>\n",
       "      <td>4920</td>\n",
       "      <td>117</td>\n",
       "      <td>1</td>\n",
       "      <td>10</td>\n",
       "      <td>15</td>\n",
       "      <td>5.5</td>\n",
       "      <td>5</td>\n",
       "      <td>200.0</td>\n",
       "      <td>400.0</td>\n",
       "    </tr>\n",
       "    <tr>\n",
       "      <td>4921</td>\n",
       "      <td>117</td>\n",
       "      <td>11</td>\n",
       "      <td>10</td>\n",
       "      <td>15</td>\n",
       "      <td>5.5</td>\n",
       "      <td>5</td>\n",
       "      <td>200.0</td>\n",
       "      <td>400.0</td>\n",
       "    </tr>\n",
       "    <tr>\n",
       "      <td>4922</td>\n",
       "      <td>117</td>\n",
       "      <td>10</td>\n",
       "      <td>10</td>\n",
       "      <td>15</td>\n",
       "      <td>5.5</td>\n",
       "      <td>5</td>\n",
       "      <td>200.0</td>\n",
       "      <td>400.0</td>\n",
       "    </tr>\n",
       "    <tr>\n",
       "      <td>4923</td>\n",
       "      <td>117</td>\n",
       "      <td>9</td>\n",
       "      <td>10</td>\n",
       "      <td>15</td>\n",
       "      <td>5.5</td>\n",
       "      <td>5</td>\n",
       "      <td>200.0</td>\n",
       "      <td>400.0</td>\n",
       "    </tr>\n",
       "  </tbody>\n",
       "</table>\n",
       "<p>4924 rows × 8 columns</p>\n",
       "</div>"
      ],
      "text/plain": [
       "      Crop  Sowing Time  Min Temp  Max Temp  Soil pH  Soil Type  Min Rainfall  \\\n",
       "0        8            6        20        31      6.0          1          25.0   \n",
       "1        8            5        20        31      6.0          1          25.0   \n",
       "2        8            4        20        31      6.0          1          25.0   \n",
       "3        8            3        20        31      6.0          1          25.0   \n",
       "4        8            7        20        31      6.0          1          25.0   \n",
       "...    ...          ...       ...       ...      ...        ...           ...   \n",
       "4919   117            5        10        15      5.5          5         200.0   \n",
       "4920   117            1        10        15      5.5          5         200.0   \n",
       "4921   117           11        10        15      5.5          5         200.0   \n",
       "4922   117           10        10        15      5.5          5         200.0   \n",
       "4923   117            9        10        15      5.5          5         200.0   \n",
       "\n",
       "      Max Rainfall  \n",
       "0             60.0  \n",
       "1             60.0  \n",
       "2             60.0  \n",
       "3             60.0  \n",
       "4             60.0  \n",
       "...            ...  \n",
       "4919         400.0  \n",
       "4920         400.0  \n",
       "4921         400.0  \n",
       "4922         400.0  \n",
       "4923         400.0  \n",
       "\n",
       "[4924 rows x 8 columns]"
      ]
     },
     "execution_count": 16,
     "metadata": {},
     "output_type": "execute_result"
    }
   ],
   "source": [
    "data"
   ]
  },
  {
   "cell_type": "code",
   "execution_count": 17,
   "metadata": {
    "colab": {},
    "colab_type": "code",
    "id": "MCCKcZ4KSVX0"
   },
   "outputs": [],
   "source": [
    "from sklearn.model_selection import train_test_split "
   ]
  },
  {
   "cell_type": "code",
   "execution_count": 18,
   "metadata": {
    "colab": {},
    "colab_type": "code",
    "id": "3D391lnpSVX8"
   },
   "outputs": [],
   "source": [
    "def splitdataset(data): \n",
    "  \n",
    "    # Separating the target variable \n",
    "    X = data.values[:, 1:] \n",
    "    Y = data.values[:, 0] \n",
    "  \n",
    "    # Splitting the dataset into train and test \n",
    "    X_train, X_test, y_train, y_test = train_test_split(  \n",
    "    X, Y, test_size = 0.2, random_state = 100) \n",
    "    \n",
    "    return X, Y, X_train, X_test, y_train, y_test"
   ]
  },
  {
   "cell_type": "code",
   "execution_count": 19,
   "metadata": {
    "colab": {},
    "colab_type": "code",
    "id": "FL1r_uPsSVYH"
   },
   "outputs": [],
   "source": [
    "X, Y, X_train, X_test, y_train, y_test = splitdataset(data) "
   ]
  },
  {
   "cell_type": "code",
   "execution_count": 20,
   "metadata": {
    "colab": {
     "base_uri": "https://localhost:8080/",
     "height": 136
    },
    "colab_type": "code",
    "executionInfo": {
     "elapsed": 5604,
     "status": "ok",
     "timestamp": 1587454447210,
     "user": {
      "displayName": "NIPUN IYER",
      "photoUrl": "",
      "userId": "02662934897748968596"
     },
     "user_tz": -330
    },
    "id": "xoH3DjNaSVYS",
    "outputId": "115db0a8-4a30-403a-b0f6-33c18781a005"
   },
   "outputs": [
    {
     "data": {
      "text/plain": [
       "array([[  3.,  15.,  21., ...,   2.,  38.,  50.],\n",
       "       [  9.,  24.,  32., ...,   9.,  60.,  90.],\n",
       "       [ 11.,  25.,  32., ...,   5., 110., 150.],\n",
       "       ...,\n",
       "       [  2.,  25.,  30., ...,   5.,  50., 100.],\n",
       "       [  6.,  20.,  30., ...,   4.,  25.,  55.],\n",
       "       [  2.,  18.,  30., ...,   5.,  25., 100.]])"
      ]
     },
     "execution_count": 20,
     "metadata": {},
     "output_type": "execute_result"
    }
   ],
   "source": [
    "X_train"
   ]
  },
  {
   "cell_type": "code",
   "execution_count": 21,
   "metadata": {
    "colab": {
     "base_uri": "https://localhost:8080/",
     "height": 34
    },
    "colab_type": "code",
    "executionInfo": {
     "elapsed": 6014,
     "status": "ok",
     "timestamp": 1587454447721,
     "user": {
      "displayName": "NIPUN IYER",
      "photoUrl": "",
      "userId": "02662934897748968596"
     },
     "user_tz": -330
    },
    "id": "SBx-OWTeSVYc",
    "outputId": "e25f7674-ba99-49c4-96b8-e6de7d399f44"
   },
   "outputs": [
    {
     "name": "stdout",
     "output_type": "stream",
     "text": [
      "98.93\n"
     ]
    }
   ],
   "source": [
    "random_forest = RandomForestClassifier(n_estimators=100)\n",
    "random_forest.fit(X_train, y_train)\n",
    "\n",
    "Y_prediction_RF = random_forest.predict(X_test)\n",
    "\n",
    "random_forest.score(X_train, y_train)\n",
    "acc_random_forest = round(random_forest.score(X_train, y_train) * 100, 2)\n",
    "print(acc_random_forest)"
   ]
  },
  {
   "cell_type": "code",
   "execution_count": 22,
   "metadata": {
    "colab": {
     "base_uri": "https://localhost:8080/",
     "height": 34
    },
    "colab_type": "code",
    "executionInfo": {
     "elapsed": 10693,
     "status": "ok",
     "timestamp": 1587454452477,
     "user": {
      "displayName": "NIPUN IYER",
      "photoUrl": "",
      "userId": "02662934897748968596"
     },
     "user_tz": -330
    },
    "id": "gYsaDfv4SVYl",
    "outputId": "724f1d53-39e5-4381-8720-d58046964534"
   },
   "outputs": [
    {
     "name": "stdout",
     "output_type": "stream",
     "text": [
      "70.37\n"
     ]
    }
   ],
   "source": [
    "logreg = LogisticRegression()\n",
    "logreg.fit(X_train, y_train)\n",
    "\n",
    "Y_pred_LR = logreg.predict(X_test)\n",
    "\n",
    "acc_log = round(logreg.score(X_train, y_train) * 100, 2)\n",
    "print(acc_log)"
   ]
  },
  {
   "cell_type": "code",
   "execution_count": 23,
   "metadata": {
    "colab": {
     "base_uri": "https://localhost:8080/",
     "height": 34
    },
    "colab_type": "code",
    "executionInfo": {
     "elapsed": 10642,
     "status": "ok",
     "timestamp": 1587454452482,
     "user": {
      "displayName": "NIPUN IYER",
      "photoUrl": "",
      "userId": "02662934897748968596"
     },
     "user_tz": -330
    },
    "id": "CU9GQ4GtSVYv",
    "outputId": "4cfd46c0-49bc-4a84-fb6a-b03a0a58b6a1"
   },
   "outputs": [
    {
     "name": "stdout",
     "output_type": "stream",
     "text": [
      "98.68\n"
     ]
    }
   ],
   "source": [
    "knn = KNeighborsClassifier(n_neighbors = 3)\n",
    "knn.fit(X_train, y_train) \n",
    "Y_pred_KNN = knn.predict(X_test)\n",
    "acc_knn = round(knn.score(X_train, y_train) * 100, 2)\n",
    "print(acc_knn)"
   ]
  },
  {
   "cell_type": "code",
   "execution_count": 24,
   "metadata": {
    "colab": {
     "base_uri": "https://localhost:8080/",
     "height": 34
    },
    "colab_type": "code",
    "executionInfo": {
     "elapsed": 10583,
     "status": "ok",
     "timestamp": 1587454452489,
     "user": {
      "displayName": "NIPUN IYER",
      "photoUrl": "",
      "userId": "02662934897748968596"
     },
     "user_tz": -330
    },
    "id": "Nn7Bn3n3SVY4",
    "outputId": "9c9815de-dab7-48d1-f387-bb15a440e554"
   },
   "outputs": [
    {
     "name": "stdout",
     "output_type": "stream",
     "text": [
      "98.88\n"
     ]
    }
   ],
   "source": [
    "gaussian = GaussianNB()\n",
    "gaussian.fit(X_train, y_train) \n",
    "Y_pred_GNB = gaussian.predict(X_test)\n",
    "acc_gaussian = round(gaussian.score(X_train, y_train) * 100, 2)\n",
    "print(acc_gaussian)"
   ]
  },
  {
   "cell_type": "code",
   "execution_count": 25,
   "metadata": {
    "colab": {
     "base_uri": "https://localhost:8080/",
     "height": 34
    },
    "colab_type": "code",
    "executionInfo": {
     "elapsed": 19641,
     "status": "ok",
     "timestamp": 1587454461632,
     "user": {
      "displayName": "NIPUN IYER",
      "photoUrl": "",
      "userId": "02662934897748968596"
     },
     "user_tz": -330
    },
    "id": "Qw2KIZMVSVY_",
    "outputId": "faa2e371-2047-4870-911a-d659119b1fd8"
   },
   "outputs": [
    {
     "name": "stdout",
     "output_type": "stream",
     "text": [
      "13.05\n"
     ]
    }
   ],
   "source": [
    "linear_svc = LinearSVC()\n",
    "linear_svc.fit(X_train, y_train)\n",
    "\n",
    "Y_pred_SVC = linear_svc.predict(X_test)\n",
    "\n",
    "acc_linear_svc = round(linear_svc.score(X_train, y_train) * 100, 2)\n",
    "print(acc_linear_svc)"
   ]
  },
  {
   "cell_type": "code",
   "execution_count": 26,
   "metadata": {
    "colab": {
     "base_uri": "https://localhost:8080/",
     "height": 34
    },
    "colab_type": "code",
    "executionInfo": {
     "elapsed": 19589,
     "status": "ok",
     "timestamp": 1587454461636,
     "user": {
      "displayName": "NIPUN IYER",
      "photoUrl": "",
      "userId": "02662934897748968596"
     },
     "user_tz": -330
    },
    "id": "2E3ZpjlCSVZI",
    "outputId": "70dece50-f6da-4d9d-dc04-6283a881cdba"
   },
   "outputs": [
    {
     "name": "stdout",
     "output_type": "stream",
     "text": [
      "98.93\n"
     ]
    }
   ],
   "source": [
    "decision_tree = DecisionTreeClassifier()\n",
    "decision_tree.fit(X_train, y_train)\n",
    "Y_pred_DT = decision_tree.predict(X_test)\n",
    "acc_decision_tree = round(decision_tree.score(X_train, y_train) * 100, 2)\n",
    "print(acc_decision_tree)"
   ]
  },
  {
   "cell_type": "code",
   "execution_count": 29,
   "metadata": {},
   "outputs": [],
   "source": [
    "#plotting the accuracy comparision "
   ]
  },
  {
   "cell_type": "code",
   "execution_count": 37,
   "metadata": {},
   "outputs": [],
   "source": [
    "models= ['RF','LGR','KNN','GNB','LSVC','DT','ENSEMBLE']\n",
    "\n",
    "accuracy = [acc_random_forest,acc_log,acc_knn,acc_gaussian,acc_linear_svc,acc_decision_tree,ensemble_ans]"
   ]
  },
  {
   "cell_type": "code",
   "execution_count": 38,
   "metadata": {},
   "outputs": [],
   "source": [
    "graphdata={'models':models, 'accuracy':accuracy}\n",
    "\n",
    "graph=pd.DataFrame(graphdata)"
   ]
  },
  {
   "cell_type": "code",
   "execution_count": 39,
   "metadata": {},
   "outputs": [
    {
     "data": {
      "text/plain": [
       "<matplotlib.axes._subplots.AxesSubplot at 0x1c1988a410>"
      ]
     },
     "execution_count": 39,
     "metadata": {},
     "output_type": "execute_result"
    },
    {
     "data": {
      "image/png": "[encoded data removed]",
      "text/plain": [
       "<Figure size 432x288 with 1 Axes>"
      ]
     },
     "metadata": {
      "needs_background": "light"
     },
     "output_type": "display_data"
    }
   ],
   "source": [
    "import seaborn as sns\n",
    "\n",
    "sns.barplot(x=graph['models'],y=graph['accuracy'])"
   ]
  },
  {
   "cell_type": "code",
   "execution_count": 27,
   "metadata": {
    "colab": {
     "base_uri": "https://localhost:8080/",
     "height": 153
    },
    "colab_type": "code",
    "executionInfo": {
     "elapsed": 19529,
     "status": "ok",
     "timestamp": 1587454461639,
     "user": {
      "displayName": "NIPUN IYER",
      "photoUrl": "",
      "userId": "02662934897748968596"
     },
     "user_tz": -330
    },
    "id": "z7KJiz19SVZP",
    "outputId": "15f74411-6336-4fbc-83d6-f983203acc2c"
   },
   "outputs": [
    {
     "name": "stdout",
     "output_type": "stream",
     "text": [
      "-2278.2\n"
     ]
    },
    {
     "data": {
      "text/plain": [
       "array([[  3.,  15.,  21., ...,   2.,  38.,  50.],\n",
       "       [  9.,  24.,  32., ...,   9.,  60.,  90.],\n",
       "       [ 11.,  25.,  32., ...,   5., 110., 150.],\n",
       "       ...,\n",
       "       [  2.,  25.,  30., ...,   5.,  50., 100.],\n",
       "       [  6.,  20.,  30., ...,   4.,  25.,  55.],\n",
       "       [  2.,  18.,  30., ...,   5.,  25., 100.]])"
      ]
     },
     "execution_count": 27,
     "metadata": {
      "tags": []
     },
     "output_type": "execute_result"
    }
   ],
   "source": [
    "# GMM \n",
    "\n",
    "gmm=mixture.GaussianMixture()\n",
    "gmm.fit(X_train,y_train)\n",
    "Y_pred=gmm.predict(X_test)\n",
    "acc_gmm=round(gmm.score(X_train,y_train)*100,2)\n",
    "print(acc_gmm)\n",
    "X_train"
   ]
  },
  {
   "cell_type": "code",
   "execution_count": 27,
   "metadata": {},
   "outputs": [],
   "source": [
    "from sklearn.ensemble import VotingClassifier"
   ]
  },
  {
   "cell_type": "code",
   "execution_count": 28,
   "metadata": {},
   "outputs": [],
   "source": [
    "estimators=[('rf', random_forest),('GNB', gaussian),('DT', decision_tree),('KNN', knn)]"
   ]
  },
  {
   "cell_type": "code",
   "execution_count": 30,
   "metadata": {},
   "outputs": [],
   "source": [
    "ensemble = VotingClassifier(estimators, voting='hard')"
   ]
  },
  {
   "cell_type": "code",
   "execution_count": 31,
   "metadata": {},
   "outputs": [
    {
     "data": {
      "text/plain": [
       "VotingClassifier(estimators=[('rf',\n",
       "                              RandomForestClassifier(bootstrap=True,\n",
       "                                                     class_weight=None,\n",
       "                                                     criterion='gini',\n",
       "                                                     max_depth=None,\n",
       "                                                     max_features='auto',\n",
       "                                                     max_leaf_nodes=None,\n",
       "                                                     min_impurity_decrease=0.0,\n",
       "                                                     min_impurity_split=None,\n",
       "                                                     min_samples_leaf=1,\n",
       "                                                     min_samples_split=2,\n",
       "                                                     min_weight_fraction_leaf=0.0,\n",
       "                                                     n_estimators=100,\n",
       "                                                     n_jobs=None,\n",
       "                                                     oob_score=False,\n",
       "                                                     random_state=None,\n",
       "                                                     verbos...\n",
       "                                                     min_impurity_split=None,\n",
       "                                                     min_samples_leaf=1,\n",
       "                                                     min_samples_split=2,\n",
       "                                                     min_weight_fraction_leaf=0.0,\n",
       "                                                     presort=False,\n",
       "                                                     random_state=None,\n",
       "                                                     splitter='best')),\n",
       "                             ('KNN',\n",
       "                              KNeighborsClassifier(algorithm='auto',\n",
       "                                                   leaf_size=30,\n",
       "                                                   metric='minkowski',\n",
       "                                                   metric_params=None,\n",
       "                                                   n_jobs=None, n_neighbors=3,\n",
       "                                                   p=2, weights='uniform'))],\n",
       "                 flatten_transform=True, n_jobs=None, voting='hard',\n",
       "                 weights=None)"
      ]
     },
     "execution_count": 31,
     "metadata": {},
     "output_type": "execute_result"
    }
   ],
   "source": [
    "ensemble.fit(X_train, y_train)"
   ]
  },
  {
   "cell_type": "code",
   "execution_count": 36,
   "metadata": {},
   "outputs": [
    {
     "name": "stdout",
     "output_type": "stream",
     "text": [
      "98.47715736040608\n"
     ]
    }
   ],
   "source": [
    "ensemble_ans=100*ensemble.score(X_test, y_test)\n",
    "print(ensemble_ans)"
   ]
  },
  {
   "cell_type": "code",
   "execution_count": 33,
   "metadata": {},
   "outputs": [],
   "source": [
    "import pickle"
   ]
  },
  {
   "cell_type": "code",
   "execution_count": 34,
   "metadata": {},
   "outputs": [],
   "source": [
    "pickle.dump(ensemble,open(\"ensemble.pkl\",\"wb\"))"
   ]
  },
  {
   "cell_type": "code",
   "execution_count": 0,
   "metadata": {
    "colab": {},
    "colab_type": "code",
    "id": "jVgC8Jl3SVZa"
   },
   "outputs": [],
   "source": [
    "from sklearn.ensemble import VotingClassifier\n",
    "\n",
    "model_hard = VotingClassifier(estimators=[('rf',random_forest),('GNB', gaussian),('DT', decision_tree),('KNN', knn)], voting='hard')\n"
   ]
  },
  {
   "cell_type": "code",
   "execution_count": 29,
   "metadata": {
    "colab": {
     "base_uri": "https://localhost:8080/",
     "height": 578
    },
    "colab_type": "code",
    "executionInfo": {
     "elapsed": 20284,
     "status": "ok",
     "timestamp": 1587454462539,
     "user": {
      "displayName": "NIPUN IYER",
      "photoUrl": "",
      "userId": "02662934897748968596"
     },
     "user_tz": -330
    },
    "id": "8vVqnEg8SVZi",
    "outputId": "b0bd8d58-2d38-48dd-d0fc-2dc15021763b"
   },
   "outputs": [
    {
     "data": {
      "text/plain": [
       "VotingClassifier(estimators=[('rf',\n",
       "                              RandomForestClassifier(bootstrap=True,\n",
       "                                                     ccp_alpha=0.0,\n",
       "                                                     class_weight=None,\n",
       "                                                     criterion='gini',\n",
       "                                                     max_depth=None,\n",
       "                                                     max_features='auto',\n",
       "                                                     max_leaf_nodes=None,\n",
       "                                                     max_samples=None,\n",
       "                                                     min_impurity_decrease=0.0,\n",
       "                                                     min_impurity_split=None,\n",
       "                                                     min_samples_leaf=1,\n",
       "                                                     min_samples_split=2,\n",
       "                                                     min_weight_fraction_leaf=0.0,\n",
       "                                                     n_estimators=100,\n",
       "                                                     n_jobs=None,\n",
       "                                                     oob_score...\n",
       "                                                     min_impurity_split=None,\n",
       "                                                     min_samples_leaf=1,\n",
       "                                                     min_samples_split=2,\n",
       "                                                     min_weight_fraction_leaf=0.0,\n",
       "                                                     presort='deprecated',\n",
       "                                                     random_state=None,\n",
       "                                                     splitter='best')),\n",
       "                             ('KNN',\n",
       "                              KNeighborsClassifier(algorithm='auto',\n",
       "                                                   leaf_size=30,\n",
       "                                                   metric='minkowski',\n",
       "                                                   metric_params=None,\n",
       "                                                   n_jobs=None, n_neighbors=3,\n",
       "                                                   p=2, weights='uniform'))],\n",
       "                 flatten_transform=True, n_jobs=None, voting='hard',\n",
       "                 weights=None)"
      ]
     },
     "execution_count": 29,
     "metadata": {
      "tags": []
     },
     "output_type": "execute_result"
    }
   ],
   "source": [
    "model_hard.fit(X_train,y_train)\n",
    "# model.score(X_test,y_test)"
   ]
  },
  {
   "cell_type": "code",
   "execution_count": 0,
   "metadata": {
    "colab": {},
    "colab_type": "code",
    "id": "jdLBRNvxSVZs"
   },
   "outputs": [],
   "source": [
    "ans_pred=model_hard.predict(X_test)"
   ]
  },
  {
   "cell_type": "code",
   "execution_count": 31,
   "metadata": {
    "colab": {
     "base_uri": "https://localhost:8080/",
     "height": 34
    },
    "colab_type": "code",
    "executionInfo": {
     "elapsed": 20140,
     "status": "ok",
     "timestamp": 1587454462558,
     "user": {
      "displayName": "NIPUN IYER",
      "photoUrl": "",
      "userId": "02662934897748968596"
     },
     "user_tz": -330
    },
    "id": "RUhthAVhSVZ0",
    "outputId": "7767e6e1-d3f7-4d32-c32b-17730eab7104"
   },
   "outputs": [
    {
     "data": {
      "text/plain": [
       "98.47715736040608"
      ]
     },
     "execution_count": 31,
     "metadata": {
      "tags": []
     },
     "output_type": "execute_result"
    }
   ],
   "source": [
    "score_ensemble = accuracy_score(y_test, ans_pred)*100\n",
    "score_ensemble "
   ]
  },
  {
   "cell_type": "code",
   "execution_count": 0,
   "metadata": {
    "colab": {},
    "colab_type": "code",
    "id": "K9NQyIEGSVaB"
   },
   "outputs": [],
   "source": [
    "model_soft = VotingClassifier(estimators=[('rf',random_forest), ('LR', logreg),('GNB', gaussian),('DT', decision_tree),('KNN', knn)], voting='soft')"
   ]
  },
  {
   "cell_type": "code",
   "execution_count": 33,
   "metadata": {
    "colab": {
     "base_uri": "https://localhost:8080/",
     "height": 34
    },
    "colab_type": "code",
    "executionInfo": {
     "elapsed": 25659,
     "status": "ok",
     "timestamp": 1587454468203,
     "user": {
      "displayName": "NIPUN IYER",
      "photoUrl": "",
      "userId": "02662934897748968596"
     },
     "user_tz": -330
    },
    "id": "34VIXP7oSVaM",
    "outputId": "d25fb5ff-6c33-4955-ca54-552ddd15ea1e"
   },
   "outputs": [
    {
     "data": {
      "text/plain": [
       "98.68020304568527"
      ]
     },
     "execution_count": 33,
     "metadata": {
      "tags": []
     },
     "output_type": "execute_result"
    }
   ],
   "source": [
    "model_soft.fit(X_train,y_train)\n",
    "ans_soft=model_soft.predict(X_test)\n",
    "score_ensemble_soft = ((accuracy_score(y_test, ans_soft)) *100)\n",
    "score_ensemble_soft"
   ]
  },
  {
   "cell_type": "code",
   "execution_count": 0,
   "metadata": {
    "colab": {},
    "colab_type": "code",
    "id": "EwK4VzbPSVaX"
   },
   "outputs": [],
   "source": [
    "from sklearn import preprocessing"
   ]
  },
  {
   "cell_type": "code",
   "execution_count": 0,
   "metadata": {
    "colab": {},
    "colab_type": "code",
    "id": "QGrbNb_XSVaf"
   },
   "outputs": [],
   "source": [
    "normalized = preprocessing.normalize(data)"
   ]
  },
  {
   "cell_type": "code",
   "execution_count": 36,
   "metadata": {
    "colab": {
     "base_uri": "https://localhost:8080/",
     "height": 238
    },
    "colab_type": "code",
    "executionInfo": {
     "elapsed": 25519,
     "status": "ok",
     "timestamp": 1587454468220,
     "user": {
      "displayName": "NIPUN IYER",
      "photoUrl": "",
      "userId": "02662934897748968596"
     },
     "user_tz": -330
    },
    "id": "REixC2sHSVap",
    "outputId": "37e5eb91-8d2e-4b0d-87c3-e30867196710"
   },
   "outputs": [
    {
     "data": {
      "text/plain": [
       "array([[0.10574945, 0.07931209, 0.26437362, ..., 0.01321868, 0.33046703,\n",
       "        0.79312087],\n",
       "       [0.10585122, 0.06615702, 0.26462806, ..., 0.0132314 , 0.33078508,\n",
       "        0.79388419],\n",
       "       [0.10593471, 0.05296736, 0.26483679, ..., 0.01324184, 0.33104598,\n",
       "        0.79451036],\n",
       "       ...,\n",
       "       [0.25280521, 0.02376801, 0.02160728, ..., 0.01080364, 0.43214565,\n",
       "        0.8642913 ],\n",
       "       [0.2528176 , 0.02160834, 0.02160834, ..., 0.01080417, 0.43216684,\n",
       "        0.86433367],\n",
       "       [0.25282881, 0.01944837, 0.0216093 , ..., 0.01080465, 0.43218601,\n",
       "        0.86437202]])"
      ]
     },
     "execution_count": 36,
     "metadata": {
      "tags": []
     },
     "output_type": "execute_result"
    }
   ],
   "source": [
    "normalized"
   ]
  },
  {
   "cell_type": "code",
   "execution_count": 0,
   "metadata": {
    "colab": {},
    "colab_type": "code",
    "id": "cv2DtOKoSVay"
   },
   "outputs": [],
   "source": [
    "normal=pd.DataFrame(normalized)"
   ]
  },
  {
   "cell_type": "code",
   "execution_count": 0,
   "metadata": {
    "colab": {},
    "colab_type": "code",
    "id": "sAzSwKp0SVa_"
   },
   "outputs": [],
   "source": [
    "def splitdataset(normal): \n",
    "  \n",
    "    # Separating the target variable \n",
    "    X = normal.values[:, 1:] \n",
    "    Y = normal.values[:, 0] \n",
    "  \n",
    "    # Splitting the dataset into train and test \n",
    "    X_train, X_test, y_train, y_test = train_test_split(  \n",
    "    X, Y, test_size = 0.2, random_state = 100) \n",
    "    \n",
    "    return X, Y, X_train, X_test, y_train, y_test"
   ]
  },
  {
   "cell_type": "code",
   "execution_count": 0,
   "metadata": {
    "colab": {},
    "colab_type": "code",
    "id": "-3GozmJXSVbO"
   },
   "outputs": [],
   "source": [
    "X1, Y1, X1_train, X1_test, y1_train, y1_test = splitdataset(normal) "
   ]
  },
  {
   "cell_type": "code",
   "execution_count": 40,
   "metadata": {
    "colab": {
     "base_uri": "https://localhost:8080/",
     "height": 419
    },
    "colab_type": "code",
    "executionInfo": {
     "elapsed": 25411,
     "status": "ok",
     "timestamp": 1587454468247,
     "user": {
      "displayName": "NIPUN IYER",
      "photoUrl": "",
      "userId": "02662934897748968596"
     },
     "user_tz": -330
    },
    "id": "h9sOayBCSVbV",
    "outputId": "bf47b6fa-9277-48f5-c2b8-9f83069a6e0f"
   },
   "outputs": [
    {
     "data": {
      "text/html": [
       "<div>\n",
       "<style scoped>\n",
       "    .dataframe tbody tr th:only-of-type {\n",
       "        vertical-align: middle;\n",
       "    }\n",
       "\n",
       "    .dataframe tbody tr th {\n",
       "        vertical-align: top;\n",
       "    }\n",
       "\n",
       "    .dataframe thead th {\n",
       "        text-align: right;\n",
       "    }\n",
       "</style>\n",
       "<table border=\"1\" class=\"dataframe\">\n",
       "  <thead>\n",
       "    <tr style=\"text-align: right;\">\n",
       "      <th></th>\n",
       "      <th>0</th>\n",
       "      <th>1</th>\n",
       "      <th>2</th>\n",
       "      <th>3</th>\n",
       "      <th>4</th>\n",
       "      <th>5</th>\n",
       "      <th>6</th>\n",
       "      <th>7</th>\n",
       "    </tr>\n",
       "  </thead>\n",
       "  <tbody>\n",
       "    <tr>\n",
       "      <th>0</th>\n",
       "      <td>0.105749</td>\n",
       "      <td>0.079312</td>\n",
       "      <td>0.264374</td>\n",
       "      <td>0.409779</td>\n",
       "      <td>0.079312</td>\n",
       "      <td>0.013219</td>\n",
       "      <td>0.330467</td>\n",
       "      <td>0.793121</td>\n",
       "    </tr>\n",
       "    <tr>\n",
       "      <th>1</th>\n",
       "      <td>0.105851</td>\n",
       "      <td>0.066157</td>\n",
       "      <td>0.264628</td>\n",
       "      <td>0.410173</td>\n",
       "      <td>0.079388</td>\n",
       "      <td>0.013231</td>\n",
       "      <td>0.330785</td>\n",
       "      <td>0.793884</td>\n",
       "    </tr>\n",
       "    <tr>\n",
       "      <th>2</th>\n",
       "      <td>0.105935</td>\n",
       "      <td>0.052967</td>\n",
       "      <td>0.264837</td>\n",
       "      <td>0.410497</td>\n",
       "      <td>0.079451</td>\n",
       "      <td>0.013242</td>\n",
       "      <td>0.331046</td>\n",
       "      <td>0.794510</td>\n",
       "    </tr>\n",
       "    <tr>\n",
       "      <th>3</th>\n",
       "      <td>0.106000</td>\n",
       "      <td>0.039750</td>\n",
       "      <td>0.264999</td>\n",
       "      <td>0.410749</td>\n",
       "      <td>0.079500</td>\n",
       "      <td>0.013250</td>\n",
       "      <td>0.331249</td>\n",
       "      <td>0.794998</td>\n",
       "    </tr>\n",
       "    <tr>\n",
       "      <th>4</th>\n",
       "      <td>0.105630</td>\n",
       "      <td>0.092426</td>\n",
       "      <td>0.264074</td>\n",
       "      <td>0.409314</td>\n",
       "      <td>0.079222</td>\n",
       "      <td>0.013204</td>\n",
       "      <td>0.330092</td>\n",
       "      <td>0.792222</td>\n",
       "    </tr>\n",
       "    <tr>\n",
       "      <th>...</th>\n",
       "      <td>...</td>\n",
       "      <td>...</td>\n",
       "      <td>...</td>\n",
       "      <td>...</td>\n",
       "      <td>...</td>\n",
       "      <td>...</td>\n",
       "      <td>...</td>\n",
       "      <td>...</td>\n",
       "    </tr>\n",
       "    <tr>\n",
       "      <th>4919</th>\n",
       "      <td>0.252862</td>\n",
       "      <td>0.010806</td>\n",
       "      <td>0.021612</td>\n",
       "      <td>0.032418</td>\n",
       "      <td>0.011887</td>\n",
       "      <td>0.010806</td>\n",
       "      <td>0.432243</td>\n",
       "      <td>0.864485</td>\n",
       "    </tr>\n",
       "    <tr>\n",
       "      <th>4920</th>\n",
       "      <td>0.252876</td>\n",
       "      <td>0.002161</td>\n",
       "      <td>0.021613</td>\n",
       "      <td>0.032420</td>\n",
       "      <td>0.011887</td>\n",
       "      <td>0.010807</td>\n",
       "      <td>0.432267</td>\n",
       "      <td>0.864534</td>\n",
       "    </tr>\n",
       "    <tr>\n",
       "      <th>4921</th>\n",
       "      <td>0.252805</td>\n",
       "      <td>0.023768</td>\n",
       "      <td>0.021607</td>\n",
       "      <td>0.032411</td>\n",
       "      <td>0.011884</td>\n",
       "      <td>0.010804</td>\n",
       "      <td>0.432146</td>\n",
       "      <td>0.864291</td>\n",
       "    </tr>\n",
       "    <tr>\n",
       "      <th>4922</th>\n",
       "      <td>0.252818</td>\n",
       "      <td>0.021608</td>\n",
       "      <td>0.021608</td>\n",
       "      <td>0.032413</td>\n",
       "      <td>0.011885</td>\n",
       "      <td>0.010804</td>\n",
       "      <td>0.432167</td>\n",
       "      <td>0.864334</td>\n",
       "    </tr>\n",
       "    <tr>\n",
       "      <th>4923</th>\n",
       "      <td>0.252829</td>\n",
       "      <td>0.019448</td>\n",
       "      <td>0.021609</td>\n",
       "      <td>0.032414</td>\n",
       "      <td>0.011885</td>\n",
       "      <td>0.010805</td>\n",
       "      <td>0.432186</td>\n",
       "      <td>0.864372</td>\n",
       "    </tr>\n",
       "  </tbody>\n",
       "</table>\n",
       "<p>4924 rows × 8 columns</p>\n",
       "</div>"
      ],
      "text/plain": [
       "             0         1         2  ...         5         6         7\n",
       "0     0.105749  0.079312  0.264374  ...  0.013219  0.330467  0.793121\n",
       "1     0.105851  0.066157  0.264628  ...  0.013231  0.330785  0.793884\n",
       "2     0.105935  0.052967  0.264837  ...  0.013242  0.331046  0.794510\n",
       "3     0.106000  0.039750  0.264999  ...  0.013250  0.331249  0.794998\n",
       "4     0.105630  0.092426  0.264074  ...  0.013204  0.330092  0.792222\n",
       "...        ...       ...       ...  ...       ...       ...       ...\n",
       "4919  0.252862  0.010806  0.021612  ...  0.010806  0.432243  0.864485\n",
       "4920  0.252876  0.002161  0.021613  ...  0.010807  0.432267  0.864534\n",
       "4921  0.252805  0.023768  0.021607  ...  0.010804  0.432146  0.864291\n",
       "4922  0.252818  0.021608  0.021608  ...  0.010804  0.432167  0.864334\n",
       "4923  0.252829  0.019448  0.021609  ...  0.010805  0.432186  0.864372\n",
       "\n",
       "[4924 rows x 8 columns]"
      ]
     },
     "execution_count": 40,
     "metadata": {
      "tags": []
     },
     "output_type": "execute_result"
    }
   ],
   "source": [
    "normal"
   ]
  },
  {
   "cell_type": "code",
   "execution_count": 41,
   "metadata": {
    "colab": {
     "base_uri": "https://localhost:8080/",
     "height": 238
    },
    "colab_type": "code",
    "executionInfo": {
     "elapsed": 25349,
     "status": "ok",
     "timestamp": 1587454468251,
     "user": {
      "displayName": "NIPUN IYER",
      "photoUrl": "",
      "userId": "02662934897748968596"
     },
     "user_tz": -330
    },
    "id": "t00wfHgkSVbf",
    "outputId": "4946d3d5-d2ee-4b1a-efbd-08116566e814"
   },
   "outputs": [
    {
     "data": {
      "text/plain": [
       "array([[0.04220227, 0.21101137, 0.29541592, ..., 0.02813485, 0.53456215,\n",
       "        0.70337125],\n",
       "       [0.05846252, 0.15590004, 0.20786672, ..., 0.05846252, 0.3897501 ,\n",
       "        0.58462516],\n",
       "       [0.05015503, 0.11398871, 0.14590554, ..., 0.02279774, 0.50155031,\n",
       "        0.68393224],\n",
       "       ...,\n",
       "       [0.0147281 , 0.18410119, 0.22092143, ..., 0.03682024, 0.36820239,\n",
       "        0.73640478],\n",
       "       [0.08242443, 0.27474809, 0.41212213, ..., 0.05494962, 0.34343511,\n",
       "        0.75555724],\n",
       "       [0.0180744 , 0.1626696 , 0.27111601, ..., 0.045186  , 0.22593001,\n",
       "        0.90372003]])"
      ]
     },
     "execution_count": 41,
     "metadata": {
      "tags": []
     },
     "output_type": "execute_result"
    }
   ],
   "source": [
    "X1_train"
   ]
  },
  {
   "cell_type": "code",
   "execution_count": 0,
   "metadata": {
    "colab": {},
    "colab_type": "code",
    "id": "frdJRwYrSVbr"
   },
   "outputs": [],
   "source": [
    "import numpy as np\n",
    "from sklearn import linear_model\n",
    "from sklearn import svm\n",
    "\n",
    "classifiers = [\n",
    "    svm.SVR(),\n",
    "    linear_model.SGDRegressor(),\n",
    "    linear_model.BayesianRidge(),\n",
    "    linear_model.LassoLars(),\n",
    "    linear_model.ARDRegression(),\n",
    "    linear_model.PassiveAggressiveRegressor(),\n",
    "    linear_model.TheilSenRegressor(),\n",
    "    linear_model.LinearRegression()]"
   ]
  },
  {
   "cell_type": "code",
   "execution_count": 43,
   "metadata": {
    "colab": {
     "base_uri": "https://localhost:8080/",
     "height": 646
    },
    "colab_type": "code",
    "executionInfo": {
     "elapsed": 138917,
     "status": "ok",
     "timestamp": 1587454581905,
     "user": {
      "displayName": "NIPUN IYER",
      "photoUrl": "",
      "userId": "02662934897748968596"
     },
     "user_tz": -330
    },
    "id": "AXHOGlQXSVby",
    "outputId": "96e7df18-9e47-4b74-a0b1-f517bed49688"
   },
   "outputs": [
    {
     "name": "stdout",
     "output_type": "stream",
     "text": [
      "SVR(C=1.0, cache_size=200, coef0=0.0, degree=3, epsilon=0.1, gamma='scale',\n",
      "    kernel='rbf', max_iter=-1, shrinking=True, tol=0.001, verbose=False)\n",
      "91.38\n",
      "SGDRegressor(alpha=0.0001, average=False, early_stopping=False, epsilon=0.1,\n",
      "             eta0=0.01, fit_intercept=True, l1_ratio=0.15,\n",
      "             learning_rate='invscaling', loss='squared_loss', max_iter=1000,\n",
      "             n_iter_no_change=5, penalty='l2', power_t=0.25, random_state=None,\n",
      "             shuffle=True, tol=0.001, validation_fraction=0.1, verbose=0,\n",
      "             warm_start=False)\n",
      "52.25\n",
      "BayesianRidge(alpha_1=1e-06, alpha_2=1e-06, alpha_init=None,\n",
      "              compute_score=False, copy_X=True, fit_intercept=True,\n",
      "              lambda_1=1e-06, lambda_2=1e-06, lambda_init=None, n_iter=300,\n",
      "              normalize=False, tol=0.001, verbose=False)\n",
      "74.79\n",
      "LassoLars(alpha=1.0, copy_X=True, eps=2.220446049250313e-16, fit_intercept=True,\n",
      "          fit_path=True, max_iter=500, normalize=True, positive=False,\n",
      "          precompute='auto', verbose=False)\n",
      "0.0\n",
      "ARDRegression(alpha_1=1e-06, alpha_2=1e-06, compute_score=False, copy_X=True,\n",
      "              fit_intercept=True, lambda_1=1e-06, lambda_2=1e-06, n_iter=300,\n",
      "              normalize=False, threshold_lambda=10000.0, tol=0.001,\n",
      "              verbose=False)\n",
      "74.8\n",
      "PassiveAggressiveRegressor(C=1.0, average=False, early_stopping=False,\n",
      "                           epsilon=0.1, fit_intercept=True,\n",
      "                           loss='epsilon_insensitive', max_iter=1000,\n",
      "                           n_iter_no_change=5, random_state=None, shuffle=True,\n",
      "                           tol=0.001, validation_fraction=0.1, verbose=0,\n",
      "                           warm_start=False)\n",
      "63.64\n",
      "TheilSenRegressor(copy_X=True, fit_intercept=True, max_iter=300,\n",
      "                  max_subpopulation=10000, n_jobs=None, n_subsamples=None,\n",
      "                  random_state=None, tol=0.001, verbose=False)\n",
      "34.03\n",
      "LinearRegression(copy_X=True, fit_intercept=True, n_jobs=None, normalize=False)\n",
      "74.8\n"
     ]
    }
   ],
   "source": [
    "for item in classifiers:\n",
    "    print(item)\n",
    "    clf = item\n",
    "    clf.fit(X1_train, y1_train)\n",
    "    (clf.predict(X1_test))\n",
    "    acc_random_forest = round(clf.score(X1_train, y1_train) * 100, 2)\n",
    "    print(acc_random_forest)\n",
    "    "
   ]
  },
  {
   "cell_type": "code",
   "execution_count": 0,
   "metadata": {
    "colab": {},
    "colab_type": "code",
    "id": "TuOJK5FdSVb9"
   },
   "outputs": [],
   "source": [
    "import pickle\n",
    "pickle.dump(model_hard,open(\"vote.pkl\",\"wb\"))\n",
    "pickle.dump(knn,open(\"knn_new.pkl\",\"wb\"))"
   ]
  },
  {
   "cell_type": "code",
   "execution_count": 0,
   "metadata": {
    "colab": {},
    "colab_type": "code",
    "id": "nCmvW-JMkZS1"
   },
   "outputs": [],
   "source": [
    "from google.colab import files\n",
    "files.download('vote.pkl')\n",
    "files.download('knn_new.pkl')"
   ]
  },
  {
   "cell_type": "code",
   "execution_count": 0,
   "metadata": {
    "colab": {},
    "colab_type": "code",
    "id": "m_yufjjWlJlQ"
   },
   "outputs": [],
   "source": []
  }
 ],
 "metadata": {
  "colab": {
   "name": "crop.ipynb",
   "provenance": []
  },
  "kernelspec": {
   "display_name": "Python 3",
   "language": "python",
   "name": "python3"
  },
  "language_info": {
   "codemirror_mode": {
    "name": "ipython",
    "version": 3
   },
   "file_extension": ".py",
   "mimetype": "text/x-python",
   "name": "python",
   "nbconvert_exporter": "python",
   "pygments_lexer": "ipython3",
   "version": "3.7.4"
  }
 },
 "nbformat": 4,
 "nbformat_minor": 1
}
